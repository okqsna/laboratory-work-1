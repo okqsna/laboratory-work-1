{
 "cells": [
  {
   "cell_type": "markdown",
   "metadata": {
    "vscode": {
     "languageId": "html"
    }
   },
   "source": [
    "# Laboratory Work №1\n",
    "### Researching algorithms on trees and decision tree structure\n",
    "#### Created by Iia Maharyta and Oksana Moskviak"
   ]
  },
  {
   "cell_type": "code",
   "execution_count": 251,
   "metadata": {},
   "outputs": [],
   "source": [
    "# !pip install networkx\n",
    "# !pip install matplotlib\n",
    "# !pip install tqdm\n",
    "# !pip install pandas\n",
    "# !pip install numpy\n",
    "# !pip install graphviz\n",
    "# !pip install scikit-learn"
   ]
  },
  {
   "cell_type": "code",
   "execution_count": 252,
   "metadata": {},
   "outputs": [],
   "source": [
    "import random\n",
    "import networkx as nx\n",
    "import pandas as pd\n",
    "import numpy as np\n",
    "import matplotlib.pyplot as plt\n",
    "from itertools import combinations, groupby\n",
    "\n",
    "from networkx.algorithms import tree\n",
    "from networkx.algorithms import bellman_ford_predecessor_and_distance\n",
    "from networkx.algorithms import floyd_warshall_predecessor_and_distance\n",
    "\n",
    "import numpy.typing as npt"
   ]
  },
  {
   "cell_type": "markdown",
   "metadata": {},
   "source": [
    "# Task 1. Algorithm's analysis"
   ]
  },
  {
   "cell_type": "markdown",
   "metadata": {},
   "source": [
    "## Generating graph"
   ]
  },
  {
   "cell_type": "code",
   "execution_count": 253,
   "metadata": {},
   "outputs": [],
   "source": [
    "\n",
    "# You can use this function to generate a random graph with 'num_of_nodes' nodes\n",
    "# and 'completeness' probability of an edge between any two nodes\n",
    "# If 'directed' is True, the graph will be directed\n",
    "# If 'draw' is True, the graph will be drawn\n",
    "def gnp_random_connected_graph(num_of_nodes: int,\n",
    "                               completeness: int,\n",
    "                               directed: bool = False,\n",
    "                               draw: bool = False):\n",
    "    \"\"\"\n",
    "    Generates a random graph, similarly to an Erdős-Rényi \n",
    "    graph, but enforcing that the resulting graph is conneted (in case of undirected graphs)\n",
    "    \"\"\"\n",
    "\n",
    "    \n",
    "    if directed:\n",
    "        G = nx.DiGraph()\n",
    "    else:\n",
    "        G = nx.Graph()\n",
    "    edges = combinations(range(num_of_nodes), 2)\n",
    "    G.add_nodes_from(range(num_of_nodes))\n",
    "    \n",
    "    for _, node_edges in groupby(edges, key = lambda x: x[0]):\n",
    "        node_edges = list(node_edges)\n",
    "        random_edge = random.choice(node_edges)\n",
    "        if random.random() < 0.5:\n",
    "            random_edge = random_edge[::-1]\n",
    "        G.add_edge(*random_edge)\n",
    "        for e in node_edges:\n",
    "            if random.random() < completeness:\n",
    "                G.add_edge(*e)\n",
    "                \n",
    "    for (u,v,w) in G.edges(data=True):\n",
    "        w['weight'] = random.randint(-5, 20)\n",
    "                \n",
    "    if draw: \n",
    "        plt.figure(figsize=(10,6))\n",
    "        if directed:\n",
    "            # draw with edge weights\n",
    "            pos = nx.arf_layout(G)\n",
    "            nx.draw(G,pos, node_color='lightblue', \n",
    "                    with_labels=True,\n",
    "                    node_size=500, \n",
    "                    arrowsize=20, \n",
    "                    arrows=True)\n",
    "            labels = nx.get_edge_attributes(G,'weight')\n",
    "            nx.draw_networkx_edge_labels(G, pos,edge_labels=labels)\n",
    "            \n",
    "        else:\n",
    "            nx.draw(G, node_color='lightblue', \n",
    "                with_labels=True, \n",
    "                node_size=500)\n",
    "        \n",
    "    return G"
   ]
  },
  {
   "cell_type": "code",
   "execution_count": null,
   "metadata": {},
   "outputs": [],
   "source": [
    "G = gnp_random_connected_graph(10, 1, False, True)"
   ]
  },
  {
   "cell_type": "markdown",
   "metadata": {},
   "source": [
    "## Subtask 1.1"
   ]
  },
  {
   "cell_type": "markdown",
   "metadata": {},
   "source": [
    "### Kruskal's algorithm"
   ]
  },
  {
   "cell_type": "markdown",
   "metadata": {},
   "source": [
    "Implementation of Kruskal's greedy algorithm to find <b> the minimum spanning tree </b> <br>\n",
    "for a weighted, connected, undirected graph."
   ]
  },
  {
   "cell_type": "code",
   "execution_count": 255,
   "metadata": {},
   "outputs": [],
   "source": [
    "mstk = tree.minimum_spanning_tree(G, algorithm=\"kruskal\")"
   ]
  },
  {
   "cell_type": "code",
   "execution_count": null,
   "metadata": {},
   "outputs": [],
   "source": [
    "nx.draw(mstk, node_color='lightblue', \n",
    "        with_labels=True, \n",
    "        node_size=500)"
   ]
  },
  {
   "cell_type": "code",
   "execution_count": null,
   "metadata": {},
   "outputs": [],
   "source": [
    "mstk.edges(), len(mstk.edges())"
   ]
  },
  {
   "cell_type": "code",
   "execution_count": 258,
   "metadata": {},
   "outputs": [],
   "source": [
    "def kruskal_algorithm(graph) -> list:\n",
    "    \"\"\"\n",
    "    The realization of Kruskal's algorithm\n",
    "    used for finding the minimum spanning tree\n",
    "    of a graph.\n",
    "\n",
    "    :param graph: Randomly generated graph\n",
    "    :return: list, List of edges needed to create MST\n",
    "    \"\"\"\n",
    "    edges = list(graph.edges(data = True))\n",
    "    sorted_edges = sorted(edges, key = lambda x: x[2]['weight'])\n",
    "    mstk_v = {}\n",
    "    mstk = {}\n",
    "\n",
    "\n",
    "    def unite_groups(key_1: int, key_2: int):\n",
    "        \"\"\"\n",
    "        Function unites groups into one.\n",
    "\n",
    "        :param key_1, key_2: int, the key of a group to unite\n",
    "        \"\"\"\n",
    "        mstk_v[key_1] = mstk_v[key_1].union(mstk_v[key_2])\n",
    "        mstk_v.pop(key_2)\n",
    "        mstk[key_1] = mstk[key_1] + mstk[key_2]\n",
    "        mstk[key_1].append((edge[0], edge[1]))\n",
    "        mstk.pop(key_2)\n",
    "\n",
    "    i = 0\n",
    "    for edge in sorted_edges:\n",
    "        key_0 = 0\n",
    "        key_1 = 0\n",
    "        for s in mstk_v.items():\n",
    "            if edge[0] in s[1]:\n",
    "                key_0 = s[0]\n",
    "                break \n",
    "        for s in mstk_v.items():\n",
    "            if edge[1] in s[1]:\n",
    "                key_1 = s[0]\n",
    "                break \n",
    "        if not key_0 and not key_1 :\n",
    "            i += 1\n",
    "            mstk_v.setdefault(i, set())\n",
    "            mstk_v[i].add(edge[0])\n",
    "            mstk_v[i].add(edge[1])\n",
    "            mstk.setdefault(i, [])\n",
    "            mstk[i].append((edge[0], edge[1]))\n",
    "        else:\n",
    "            if key_0 == key_1:\n",
    "                continue\n",
    "            elif not key_0 or not key_1:\n",
    "                group_key = key_0 if key_0 else key_1\n",
    "                mstk_v[group_key].add(edge[0])\n",
    "                mstk_v[group_key].add(edge[1])\n",
    "                mstk[group_key].append((edge[0], edge[1]))\n",
    "            else:\n",
    "                if len(mstk_v[key_0]) >= len(mstk_v[key_1]):\n",
    "                    unite_groups(key_0, key_1)\n",
    "                else:\n",
    "                    unite_groups(key_1, key_0)\n",
    "\n",
    "    return sorted(mstk.values())\n"
   ]
  },
  {
   "cell_type": "markdown",
   "metadata": {},
   "source": [
    "### Implementation details\n",
    "At the beggining function receives randomly generated graph.\n",
    "\n",
    "Then we extract edges, sort them by weight which is needed for algorithm's instance and initialize <br>\n",
    "2 dictionaries <b>mstk_v</b> and <b>mstk</b> - dictionaries that contain information\n",
    "about vertices and edges <br> in minimum spanning tree and update it as algorithm is being performed.\n",
    "\n",
    "### Starting the algorithm"
   ]
  },
  {
   "cell_type": "markdown",
   "metadata": {},
   "source": [
    "## Subtask 1.2"
   ]
  },
  {
   "cell_type": "code",
   "execution_count": null,
   "metadata": {},
   "outputs": [],
   "source": [
    "G = gnp_random_connected_graph(10, 0.5, True, True)"
   ]
  },
  {
   "cell_type": "markdown",
   "metadata": {},
   "source": [
    "### Bellman-Ford algorithm"
   ]
  },
  {
   "cell_type": "markdown",
   "metadata": {},
   "source": [
    "Implementation of Bellman-Ford algorithm that computes <b> the shortest path </b> <br>\n",
    "from a single source vertext to all other vertices in a weighted digraph."
   ]
  },
  {
   "cell_type": "code",
   "execution_count": null,
   "metadata": {},
   "outputs": [],
   "source": [
    "def bellman_ford_networkx(graph, source: int, show = True) -> dict:\n",
    "    \"\"\"\n",
    "    The Bellman-Ford algorithm performed by\n",
    "    NetworkX library.\n",
    "\n",
    "    :param graph: Randomly generated graph\n",
    "    :param start: int, Name of starting vertice (number in our case)\n",
    "    :return: dict, Dictionary with keys as vertices and values as the \n",
    "    shortest distance to the each vertice.\n",
    "    \"\"\"\n",
    "    try:\n",
    "        _, dist = bellman_ford_predecessor_and_distance(graph, source)\n",
    "        if show:\n",
    "            for k, v in dist.items():\n",
    "                print(f\"Distance to {k}:\", v)\n",
    "    except:\n",
    "        return \"Negative cycle detected\"\n",
    "    return dist\n",
    "print(bellman_ford_networkx(G, 0))"
   ]
  },
  {
   "cell_type": "markdown",
   "metadata": {},
   "source": [
    "### Implementation details\n",
    "At the beggining function receives randomly generated graph, node to start algorithm performence from and the sign to show the distances in written form.\n",
    "\n",
    "Then we extract edges, nodes, start node and initialize <b>distance_dict</b> - dictionary that contains information\n",
    "about distances, with node as keys and distance as values.\n",
    "\n",
    "### Starting the algorithm\n",
    "- We initialize the distances to infinity, except for the start node - its distance is set to 0.\n",
    "- Starting the main part - iterating for v-1 times, where v is a number of nodes of a graph.\n",
    "We iterate through our directed graph and implement a checking if the sum of a distance to start\n",
    "node in from node \"u\" in our 'table' of distances and the weight of a given edge is less than a distance to node v.\n",
    "If so the distance from our node v is set to such sum (previously checked that if the node distance is set to infinity it is being reset to 0 for calculation)\n",
    "- As a next step we perform another additional iteration as a checking if the graph contains any negative cycles. The checking is the exact copy of the previous iterations.\n",
    "- As a result we print the results in written form and in dictionary as well."
   ]
  },
  {
   "cell_type": "code",
   "execution_count": null,
   "metadata": {},
   "outputs": [],
   "source": [
    "\n",
    "def bellman_ford_algorithm(graph, start: int, show = True) -> dict:\n",
    "    \"\"\"\n",
    "    The realization of Bellman-Ford algorithm\n",
    "    that is used to find the shortest path in a directed\n",
    "    weighted graph. \n",
    "\n",
    "    :param graph: Randomly generated graph\n",
    "    :param start: int, Name of starting vertice (number in our case)\n",
    "    :return: dict, Dictionary with keys as vertices and values as the \n",
    "    shortest distance to the each vertice.\n",
    "    \"\"\"\n",
    "    edges = list(graph.edges(data = True))\n",
    "    all_vertices = list(graph.nodes())\n",
    "    sorted_graph = sorted(edges, key = lambda x: x)\n",
    "    start_vertice = sorted_graph[start][0]\n",
    "    distance_dict = {}\n",
    "\n",
    "    for v in sorted(all_vertices):\n",
    "        distance_dict[v] = float('inf')\n",
    "\n",
    "    distance_dict[start_vertice] = 0\n",
    "    for _ in range(len(all_vertices) - 1):\n",
    "        for u, v, w in sorted_graph:\n",
    "            if distance_dict[u] + w['weight'] < distance_dict[v]:\n",
    "                distance_dict[u] = 0 if distance_dict[u] == float('inf') else distance_dict[u]\n",
    "                distance_dict[v] = distance_dict[u] + w['weight']\n",
    "\n",
    "    for u, v, w in sorted_graph:\n",
    "        if distance_dict[u] + w['weight'] < distance_dict[v]:\n",
    "            return \"Negative cycle detected\"\n",
    "\n",
    "    \n",
    "    if show:\n",
    "        for v, distance in distance_dict.items():\n",
    "            if distance != float('inf'):\n",
    "                print(f'Distance to {v}: {distance}')\n",
    "    return distance_dict\n",
    "\n",
    "print(bellman_ford_algorithm(G, 0))"
   ]
  },
  {
   "cell_type": "markdown",
   "metadata": {},
   "source": [
    "---"
   ]
  },
  {
   "cell_type": "markdown",
   "metadata": {},
   "source": [
    "## Time measuring for Kruskal's algorithm"
   ]
  },
  {
   "cell_type": "code",
   "execution_count": 262,
   "metadata": {},
   "outputs": [],
   "source": [
    "import time\n",
    "from tqdm import tqdm"
   ]
  },
  {
   "cell_type": "code",
   "execution_count": 263,
   "metadata": {},
   "outputs": [],
   "source": [
    "\n",
    "def count_time(num_nodes: int, completeness: float, directed: bool, algorithm_name: str) -> float:\n",
    "    \"\"\"\n",
    "    Counting runtime for each Kruskal's algorithm with given\n",
    "    specifics of a graph, such as number of nodes, compeleteness and direction.\n",
    "\n",
    "    :param num_nodes: list, List with number of nodes to check time for\n",
    "    :param completeness: float, The completeness of a graph\n",
    "    :param directed: bool, The direction of a graph\n",
    "    :param algorithm_name: str, The \"name\" of an algorithm\n",
    "    :return: float, Runtime of an algorithm\n",
    "    \"\"\"\n",
    "    NUM_OF_ITERATIONS = 1000\n",
    "    time_taken = 0\n",
    "    for _ in tqdm(range(NUM_OF_ITERATIONS)):\n",
    "\n",
    "        G = gnp_random_connected_graph(num_nodes, completeness, directed)\n",
    "        start = time.time()\n",
    "     \n",
    "        if algorithm_name == \"kruskal\":\n",
    "            tree.minimum_spanning_tree(G, algorithm=\"kruskal\")\n",
    "        else:\n",
    "            kruskal_algorithm(G)\n",
    "\n",
    "        end = time.time()\n",
    "        time_taken += end - start\n",
    "\n",
    "    return time_taken / NUM_OF_ITERATIONS\n"
   ]
  },
  {
   "cell_type": "code",
   "execution_count": 264,
   "metadata": {},
   "outputs": [],
   "source": [
    "def testing_kruskal(num_nodes: list,\\\n",
    "     completeness: float, directed: bool) -> dict:\n",
    "     \"\"\"\n",
    "     Processing of data, received after count_time function for\n",
    "     of each implementation of Kruskal's algorithm for certain\n",
    "     given number of nodes and completeness.\n",
    "\n",
    "     :param num_nodes: list, List with number of nodes to check time for\n",
    "     :param completeness: float, The completeness of a graph\n",
    "     :param directed: bool, The direction of a graph\n",
    "     :return: dict, The results of testing, key is a name of an algorithm,\n",
    "     value is dictionary, which keys are the number of nodes in a graph \n",
    "     and values are runtimes\n",
    "     \"\"\"\n",
    "     results = {}\n",
    "     algorithms = ['our_kruskal', 'kruskal']\n",
    "\n",
    "     for num in num_nodes:\n",
    "          for algorithm in algorithms:\n",
    "               run_time_res = count_time(num, completeness, directed, algorithm)\n",
    "               if algorithm not in results:\n",
    "                    results.setdefault(algorithm, {})\n",
    "               results[algorithm][num] = run_time_res\n",
    "     return results"
   ]
  },
  {
   "cell_type": "code",
   "execution_count": null,
   "metadata": {},
   "outputs": [],
   "source": [
    "\n",
    "def visualization_comparison_kruskal(results: dict) -> str:\n",
    "    \"\"\"\n",
    "    The visualization of runtime differences\n",
    "    of Kruskal's algorithms implemented by us \n",
    "    and NetworkX library using Matplotlib library.\n",
    "\n",
    "    :param results: dict, The result of testing_kruskal function\n",
    "    \"\"\"\n",
    "    nodes = np.array(list(results['our_kruskal'].keys()))\n",
    "    our_kruskal_result = list(results['our_kruskal'].values())\n",
    "    kruskal_result = list(results['kruskal'].values())\n",
    "\n",
    "    plt.style.use('dark_background')\n",
    "    plt.figure(figsize = (8, 6))\n",
    "    plt.plot(nodes, our_kruskal_result, color = '#1098F7', label = \"Kruskal's algorithm\", linewidth = 1.5)\n",
    "    plt.plot(nodes, kruskal_result, color = 'red', label = \"Kruskal's Algorithm (NetworkX)\", linewidth = 1.5)\n",
    "\n",
    "\n",
    "    plt.title(\"Runtime Kruskal's algorithm comparison\")\n",
    "    plt.xlabel('Data size')\n",
    "    plt.ylabel('Mean time of execution')\n",
    "    plt.legend()\n",
    "    plt.show()\n",
    "\n",
    "    return \"Visualization of runtime differences for 2 implementations of Kruskal's algorithm\"\n",
    "\n",
    "print(visualization_comparison_kruskal(testing_kruskal([5, 10], 0.4, False)))"
   ]
  },
  {
   "cell_type": "markdown",
   "metadata": {},
   "source": [
    "\n",
    "- <b>500 iterations</b> <br>\n",
    "For an example of 5, 10, 15, 20, 25, 50, 100, 200, 500 nodes, with completness 0.4 our algorithm works faster <br> \n",
    "on bigger examples and works almost the same on small ones (faster a little bit than implementation of NetworkX library).\n",
    "\n",
    "Testing on the same example with completness 1 our algorithm continues to perform faster.\n",
    "\n",
    "- <b>1000 iterations</b> <br>\n",
    "The same tendency is kept on bigger amount and smaller amount of iterations, but same give characteristics. Our algorithm performs faster."
   ]
  },
  {
   "cell_type": "markdown",
   "metadata": {},
   "source": [
    "## Time measuring for Bellman-Ford algorithm"
   ]
  },
  {
   "cell_type": "code",
   "execution_count": 266,
   "metadata": {},
   "outputs": [],
   "source": [
    "\n",
    "def count_time_bf(num_nodes: int, completeness: float, directed: bool, algorithm_name: str, start_node: int) -> float:\n",
    "    \"\"\"\n",
    "    Counting runtime for each Bellman-Ford algorithm with given\n",
    "    specifics of a graph, such as number of nodes, compeleteness and direction.\n",
    "\n",
    "    :param num_nodes: list, List with number of nodes to check time for\n",
    "    :param completeness: float, The completeness of a graph\n",
    "    :param directed: bool, The direction of a graph\n",
    "    :param algorithm_name: str, The \"name\" of an algorithm\n",
    "    :param start_node: int, The node to start performing algorithm on\n",
    "    :return: float, Runtime of an algorithm\n",
    "    \"\"\"\n",
    "    NUM_OF_ITERATIONS = 100\n",
    "    time_taken = 0\n",
    "    for _ in tqdm(range(NUM_OF_ITERATIONS)):\n",
    "\n",
    "        G = gnp_random_connected_graph(num_nodes, completeness, directed)\n",
    "        start = time.time()\n",
    "     \n",
    "        if algorithm_name == \"bellman-ford_x\":\n",
    "            bellman_ford_networkx(G, start_node, False)\n",
    "        else:\n",
    "            bellman_ford_algorithm(G, start_node, False)\n",
    "\n",
    "        end = time.time()\n",
    "        time_taken += end - start\n",
    "\n",
    "    return time_taken / NUM_OF_ITERATIONS\n"
   ]
  },
  {
   "cell_type": "code",
   "execution_count": 267,
   "metadata": {},
   "outputs": [],
   "source": [
    "def testing_bellman_ford(num_nodes: list,\\\n",
    "     completeness: float, directed: bool, start_node: int) -> dict:\n",
    "     \"\"\"\n",
    "     Processing of data, received after count_time function for\n",
    "     of each implementation of Bellman-Ford algorithm for certain\n",
    "     given number of nodes and completeness.\n",
    "\n",
    "     :param num_nodes: list, List with number of nodes to check time for\n",
    "     :param completeness: float, The completeness of a graph\n",
    "     :param directed: bool, The direction of a graph\n",
    "     :param start_node: int, The node to start performing algorithm on\n",
    "     :return: dict, The results of testing, key is a name of an algorithm,\n",
    "     value is dictionary, which keys are the number of nodes in a graph \n",
    "     and values are runtimes\n",
    "     \"\"\"\n",
    "     results = {}\n",
    "     algorithms = ['bellman-ford', 'bellman-ford_x']\n",
    "\n",
    "     for num in num_nodes:\n",
    "          for algorithm in algorithms:\n",
    "               run_time_res = count_time_bf(num, completeness, directed, algorithm, start_node)\n",
    "               if algorithm not in results:\n",
    "                    results.setdefault(algorithm, {})\n",
    "               results[algorithm][num] = run_time_res\n",
    "     return results"
   ]
  },
  {
   "cell_type": "code",
   "execution_count": null,
   "metadata": {},
   "outputs": [],
   "source": [
    "\n",
    "def visualization_comparison_bellman_ford(results: dict) -> str:\n",
    "    \"\"\"\n",
    "    The visualization of runtime differences\n",
    "    of Bellman-ford algorithms implemented by us \n",
    "    and NetworkX library using Matplotlib library.\n",
    "\n",
    "    :param results: dict, The result of testing_kruskal function\n",
    "    \"\"\"\n",
    "    nodes = np.array(list(results['bellman-ford'].keys()))\n",
    "    our_kruskal_result = list(results['bellman-ford'].values())\n",
    "    kruskal_result = list(results['bellman-ford_x'].values())\n",
    "\n",
    "    plt.style.use('dark_background')\n",
    "    plt.figure(figsize = (8, 6))\n",
    "    plt.plot(nodes, our_kruskal_result, color = '#1098F7', label = 'Bellman-Ford algorithm', linewidth = 1.5)\n",
    "    plt.plot(nodes, kruskal_result, color = 'red', label = 'Bellman-Ford Algorithm (NetworkX)', linewidth = 1.5)\n",
    "\n",
    "\n",
    "    plt.title('Runtime Bellman-Ford algorithm comparison')\n",
    "    plt.xlabel('Data size')\n",
    "    plt.ylabel('Mean time of execution')\n",
    "    plt.legend()\n",
    "    plt.show()\n",
    "\n",
    "    return 'Visualization of runtime differences for 2 implementations of Bellman-Ford algorithm'\n",
    "\n",
    "print(visualization_comparison_bellman_ford(testing_bellman_ford([5, 10, 15], 1, True, 0)))"
   ]
  },
  {
   "cell_type": "markdown",
   "metadata": {},
   "source": [
    "This algorithm is harder to perform than Kruskal's algorithm that is why we test on 500 <= iterations <br>\n",
    "For an example of 10, 15, 20, 25, 50, 100, 250 nodes, with completness 0.4 our algorithm works <br> \n",
    "a little bit slower on some points than implementation of NetworkX library. (tested for 200, 250, 500 iterations)\n",
    "\n",
    "For completness of 1 our algorithm works faster of 200 iterations than NetworkX's algorithm."
   ]
  },
  {
   "cell_type": "markdown",
   "metadata": {},
   "source": [
    "## Task 2. Decision Tree Classifier "
   ]
  },
  {
   "cell_type": "markdown",
   "metadata": {},
   "source": [
    "![purple-divider](https://user-images.githubusercontent.com/7065401/52071927-c1cd7100-2562-11e9-908a-dde91ba14e59.png)"
   ]
  },
  {
   "cell_type": "markdown",
   "metadata": {},
   "source": [
    "### Loading data"
   ]
  },
  {
   "cell_type": "code",
   "execution_count": 269,
   "metadata": {},
   "outputs": [],
   "source": [
    "from sklearn.datasets import load_breast_cancer\n",
    "cancer = load_breast_cancer()\n",
    "X, y = cancer.data, cancer.target\n"
   ]
  },
  {
   "cell_type": "code",
   "execution_count": null,
   "metadata": {},
   "outputs": [],
   "source": [
    "\n",
    "plt.figure(2, figsize=(15, 10))\n",
    "plt.clf()\n",
    "\n",
    "plt.scatter(X[:, 0]  , X[:, 7], c=y, cmap=plt.cm.Set1, edgecolor=\"k\")\n",
    "plt.xlabel(\"radius\")\n",
    "plt.ylabel(\"concave points\")\n"
   ]
  },
  {
   "cell_type": "markdown",
   "metadata": {},
   "source": [
    "_here we may see, how some features predict if a person has a cancer or not._\n",
    "\n",
    "![purple-divider](https://user-images.githubusercontent.com/7065401/52071927-c1cd7100-2562-11e9-908a-dde91ba14e59.png)\n",
    "\n",
    "### Our Decision Tree  Classifier\n",
    "\n",
    "We spent couple of days and a lot of nerves to understand and develop this fascinating algorithm.<br>\n",
    "The dataset we used for this decision tree is breast cancer dataset which contains an information about whether \n",
    "the tumor is malignant or benign and 8 other features that help to make a research."
   ]
  },
  {
   "cell_type": "code",
   "execution_count": 271,
   "metadata": {},
   "outputs": [],
   "source": [
    "class Node:\n",
    "    def __init__(self, feature = None, threshold = None, left_tree = None, right_tree = None, value = None):\n",
    "        \"\"\"\n",
    "        Instance of each node of a tree.\n",
    "        \"\"\"\n",
    "        self.feature = feature\n",
    "        self.threshold = threshold\n",
    "        self.left_tree = left_tree\n",
    "        self.right_tree = right_tree\n",
    "        self.value = value\n",
    "\n",
    "    def is_leaf(self):\n",
    "        \"\"\"\n",
    "        Function check if leaf exists.\n",
    "        \"\"\"\n",
    "        return self.value is not None"
   ]
  },
  {
   "cell_type": "code",
   "execution_count": 272,
   "metadata": {},
   "outputs": [],
   "source": [
    "\n",
    "class DecisionTree:\n",
    "    def __init__(self, max_depth = 100, min_samples = 2, n_features = None):\n",
    "        \"\"\"\n",
    "        Instance of decision tree.\n",
    "        \"\"\"\n",
    "        self.max_depth = max_depth\n",
    "        self.min_samples = min_samples\n",
    "        self.n_features = n_features\n",
    "        self.tree = None\n",
    "    \n",
    "    def fit(self, X, y):\n",
    "        \"\"\" \n",
    "        Function that controls all building tree processes.\n",
    "        \"\"\"\n",
    "        self.n_features = X.shape[1] if not self.n_features else min(self.n_features, X.shape[1])\n",
    "        self.tree = self.build_tree(X, y)\n",
    "\n",
    "    def build_tree(self, X, y, depth = 0):\n",
    "        \"\"\"\n",
    "        Main recursive function that builds the tree by taking\n",
    "        into account the best information a feature of dataset can offer.\n",
    "        \"\"\"\n",
    "\n",
    "        n_samples, n_features = X.shape\n",
    "        n_labels = len(np.unique(y))\n",
    "\n",
    "        if depth >= self.max_depth or n_labels == 1 or n_samples < self.min_samples:\n",
    "            leaf_value = np.bincount(y).argmax()\n",
    "            return Node(value = leaf_value)\n",
    "        \n",
    "        feat_indxs = np.random.choice(n_features, self.n_features)\n",
    "\n",
    "        best_feature, best_threshold = self.find_best_split(X, y, feat_indxs)\n",
    "\n",
    "        left_indxs, right_indxs = self.split(X[:, best_feature], best_threshold)\n",
    "\n",
    "        left_tree = self.build_tree(X[left_indxs, :], y[left_indxs], depth+1)\n",
    "        right_tree = self.build_tree(X[right_indxs, :], y[right_indxs], depth+1)\n",
    "\n",
    "        return Node(best_feature, best_threshold, left_tree, right_tree)\n",
    "\n",
    "\n",
    "    def find_best_split(self, X, y, feat_indxs):\n",
    "        \"\"\"\n",
    "        Function finds the best feature and \n",
    "        threshold for it in order to split whole data.\n",
    "        \"\"\"\n",
    "        best_gain = -1\n",
    "        best_feat, best_thr = None, None\n",
    "\n",
    "        for feat_i in feat_indxs:\n",
    "            X_column = X[:, feat_i]\n",
    "            thresholds = np.unique(X_column)\n",
    "\n",
    "            for thr in thresholds:\n",
    "                gain = self.calculate_info_gain(y, X_column, thr)\n",
    "\n",
    "                if gain > best_gain:\n",
    "                    best_gain = gain\n",
    "                    best_feat = feat_i\n",
    "                    best_thr = thr\n",
    "\n",
    "        return best_feat, best_thr\n",
    "\n",
    "    def calculate_info_gain(self, y, X_column, threshold):\n",
    "        \"\"\"\n",
    "        Function calculates the information gain using \n",
    "        basic formula.\n",
    "        \"\"\"\n",
    "        parent_gini = self.gini(y)\n",
    "\n",
    "        left_indxs, right_indxs = self.split(X_column, threshold)\n",
    "\n",
    "        n = len(y)\n",
    "        n_l, n_r = len(left_indxs), len(right_indxs)\n",
    "\n",
    "        if n_l == 0 or n_r == 0:\n",
    "            return 0\n",
    "        \n",
    "        gini_l, gini_r = self.gini(y[left_indxs]), self.gini(y[right_indxs])\n",
    "        w_l, w_r = n_l / n, n_r / n\n",
    "        gini_w = (w_l * gini_l) + (w_r * gini_r)\n",
    "\n",
    "        return parent_gini - gini_w\n",
    "\n",
    "\n",
    "\n",
    "    def split(self, X_column, thr):\n",
    "        \"\"\"\n",
    "        Function splits data according if it meats\n",
    "        the threshold.\n",
    "        \"\"\"\n",
    "        left = np.argwhere(X_column <= thr).flatten()\n",
    "        right = np.argwhere(X_column > thr).flatten()\n",
    "\n",
    "        return left, right\n",
    "\n",
    "\n",
    "    def gini(self, y):\n",
    "        \"\"\"\n",
    "        Function calculates the Gini for given feature.\n",
    "        \"\"\"\n",
    "        counter = np.bincount(y)\n",
    "        prob = counter / len(y)\n",
    "        gini_impurity = 1 - np.sum(prob ** 2)\n",
    "        return gini_impurity\n",
    "\n",
    "\n",
    "    def predict(self, X):\n",
    "        \"\"\"\n",
    "        Function stores the traverse_tree predictions.\n",
    "        \"\"\"\n",
    "        return np.array([self.traverse_tree(x, self.tree) for x in X])\n",
    "    \n",
    "\n",
    "    def traverse_tree(self, x, node):\n",
    "        \"\"\" \n",
    "        Function keeps in track the traversials of the tree \n",
    "        by predicting which node will be next.\n",
    "        \"\"\"\n",
    "        if node.is_leaf():\n",
    "            return node.value\n",
    "        \n",
    "        if x[node.feature] <= node.threshold:\n",
    "            return self.traverse_tree(x, node.left_tree)\n",
    "        return self.traverse_tree(x, node.right_tree)\n",
    "        "
   ]
  },
  {
   "cell_type": "code",
   "execution_count": 273,
   "metadata": {},
   "outputs": [],
   "source": [
    "\n",
    "def evaluate(y_test: list[list], y_pred: list) -> float:\n",
    "    \"\"\"\n",
    "    Returns accuracy of the model (ratio of right guesses to the number of samples)\n",
    "    \"\"\"\n",
    "    return np.sum(y_test == y_pred) / len(y_test)"
   ]
  },
  {
   "cell_type": "code",
   "execution_count": null,
   "metadata": {},
   "outputs": [],
   "source": [
    "from sklearn.datasets import load_breast_cancer\n",
    "from sklearn.model_selection import train_test_split\n",
    "\n",
    "cancer = load_breast_cancer()\n",
    "X, y = cancer.data, cancer.target\n",
    "\n",
    "X_train, X_test, y_train, y_test = train_test_split(\n",
    "    X, y, test_size=0.2, random_state=1234\n",
    ")\n",
    "# X_train.shape, y_test.shape\n",
    "clf = DecisionTree()\n",
    "clf.fit(X_train, y_train)\n",
    "pred = clf.predict(X_test)\n",
    "\n",
    "acc = evaluate(y_test, pred)\n",
    "print(acc)"
   ]
  },
  {
   "cell_type": "markdown",
   "metadata": {},
   "source": [
    "##### _Visualisation of the tree:_"
   ]
  },
  {
   "cell_type": "code",
   "execution_count": null,
   "metadata": {},
   "outputs": [],
   "source": [
    "import graphviz \n",
    "dot_data = tree.export_graphviz(clf, out_file=None,\n",
    "                    feature_names=cancer.feature_names,  \n",
    "                    class_names=cancer.target_names,  \n",
    "                    filled=True, rounded=True,  \n",
    "                    special_characters=True)  \n",
    "graph = graphviz.Source(dot_data) \n",
    "graph.render(\"breast cancer\")"
   ]
  }
 ],
 "metadata": {
  "kernelspec": {
   "display_name": "Python 3",
   "language": "python",
   "name": "python3"
  },
  "language_info": {
   "codemirror_mode": {
    "name": "ipython",
    "version": 3
   },
   "file_extension": ".py",
   "mimetype": "text/x-python",
   "name": "python",
   "nbconvert_exporter": "python",
   "pygments_lexer": "ipython3",
   "version": "3.12.4"
  }
 },
 "nbformat": 4,
 "nbformat_minor": 2
}
